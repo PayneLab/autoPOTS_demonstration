{
 "cells": [
  {
   "cell_type": "markdown",
   "metadata": {},
   "source": [
    "## B cells versus T cells\n",
    "The data used in this notebook is lymphocyte data for one patient's B cells and T cells. We use this data to show the proteome variation between the cell types. Here, we note presence/absense changes and quantify fold changes using a T test.\n"
   ]
  },
  {
   "cell_type": "markdown",
   "metadata": {},
   "source": [
    "First, we import our loader module. This brings the functions defined there (in our repository at ~/load_data.py) into scope so we can use them in this script. Then we can load our data and store it as <code>data</code>.\n",
    "\n",
    "Calling <code>head</code> shows the first several lines of the dataframe, which provides an idea of the type of data present and the structure of the dataframe."
   ]
  },
  {
   "cell_type": "code",
   "execution_count": 1,
   "metadata": {},
   "outputs": [
    {
     "data": {
      "text/html": [
       "<div>\n",
       "<style scoped>\n",
       "    .dataframe tbody tr th:only-of-type {\n",
       "        vertical-align: middle;\n",
       "    }\n",
       "\n",
       "    .dataframe tbody tr th {\n",
       "        vertical-align: top;\n",
       "    }\n",
       "\n",
       "    .dataframe thead th {\n",
       "        text-align: right;\n",
       "    }\n",
       "</style>\n",
       "<table border=\"1\" class=\"dataframe\">\n",
       "  <thead>\n",
       "    <tr style=\"text-align: right;\">\n",
       "      <th></th>\n",
       "      <th>Subject1_FACS145_B_C10</th>\n",
       "      <th>Subject1_FACS145_B_C11</th>\n",
       "      <th>Subject1_FACS145_B_C12</th>\n",
       "      <th>Subject1_FACS145_B_C13</th>\n",
       "      <th>Subject1_FACS145_B_C9</th>\n",
       "      <th>Subject1_FACS145_T_D10</th>\n",
       "      <th>Subject1_FACS145_T_D11</th>\n",
       "      <th>Subject1_FACS145_T_D12</th>\n",
       "      <th>Subject1_FACS145_T_D13</th>\n",
       "      <th>Subject1_FACS145_T_D9</th>\n",
       "    </tr>\n",
       "    <tr>\n",
       "      <th>Protein ID</th>\n",
       "      <th></th>\n",
       "      <th></th>\n",
       "      <th></th>\n",
       "      <th></th>\n",
       "      <th></th>\n",
       "      <th></th>\n",
       "      <th></th>\n",
       "      <th></th>\n",
       "      <th></th>\n",
       "      <th></th>\n",
       "    </tr>\n",
       "  </thead>\n",
       "  <tbody>\n",
       "    <tr>\n",
       "      <th>A0A0B4J2D5</th>\n",
       "      <td>887620.10</td>\n",
       "      <td>1370180.1</td>\n",
       "      <td>2062984.60</td>\n",
       "      <td>2450476.00</td>\n",
       "      <td>1365915.2</td>\n",
       "      <td>328929.3</td>\n",
       "      <td>361140.16</td>\n",
       "      <td>186872.61</td>\n",
       "      <td>0.00</td>\n",
       "      <td>202940.38</td>\n",
       "    </tr>\n",
       "    <tr>\n",
       "      <th>A0AVT1</th>\n",
       "      <td>436741.90</td>\n",
       "      <td>703239.6</td>\n",
       "      <td>862428.60</td>\n",
       "      <td>418775.84</td>\n",
       "      <td>1720851.8</td>\n",
       "      <td>0.0</td>\n",
       "      <td>586732.06</td>\n",
       "      <td>0.00</td>\n",
       "      <td>0.00</td>\n",
       "      <td>317229.88</td>\n",
       "    </tr>\n",
       "    <tr>\n",
       "      <th>A0FGR8</th>\n",
       "      <td>0.00</td>\n",
       "      <td>0.0</td>\n",
       "      <td>0.00</td>\n",
       "      <td>0.00</td>\n",
       "      <td>0.0</td>\n",
       "      <td>0.0</td>\n",
       "      <td>0.00</td>\n",
       "      <td>0.00</td>\n",
       "      <td>0.00</td>\n",
       "      <td>0.00</td>\n",
       "    </tr>\n",
       "    <tr>\n",
       "      <th>A6NHR9</th>\n",
       "      <td>164891.88</td>\n",
       "      <td>0.0</td>\n",
       "      <td>0.00</td>\n",
       "      <td>0.00</td>\n",
       "      <td>0.0</td>\n",
       "      <td>0.0</td>\n",
       "      <td>0.00</td>\n",
       "      <td>0.00</td>\n",
       "      <td>436801.84</td>\n",
       "      <td>0.00</td>\n",
       "    </tr>\n",
       "    <tr>\n",
       "      <th>A8MWD9</th>\n",
       "      <td>520638.70</td>\n",
       "      <td>1043206.2</td>\n",
       "      <td>703606.44</td>\n",
       "      <td>1145135.20</td>\n",
       "      <td>465469.2</td>\n",
       "      <td>0.0</td>\n",
       "      <td>465638.90</td>\n",
       "      <td>0.00</td>\n",
       "      <td>0.00</td>\n",
       "      <td>339949.03</td>\n",
       "    </tr>\n",
       "    <tr>\n",
       "      <th>...</th>\n",
       "      <td>...</td>\n",
       "      <td>...</td>\n",
       "      <td>...</td>\n",
       "      <td>...</td>\n",
       "      <td>...</td>\n",
       "      <td>...</td>\n",
       "      <td>...</td>\n",
       "      <td>...</td>\n",
       "      <td>...</td>\n",
       "      <td>...</td>\n",
       "    </tr>\n",
       "    <tr>\n",
       "      <th>Q9Y295</th>\n",
       "      <td>0.00</td>\n",
       "      <td>0.0</td>\n",
       "      <td>0.00</td>\n",
       "      <td>0.00</td>\n",
       "      <td>0.0</td>\n",
       "      <td>0.0</td>\n",
       "      <td>0.00</td>\n",
       "      <td>0.00</td>\n",
       "      <td>0.00</td>\n",
       "      <td>0.00</td>\n",
       "    </tr>\n",
       "    <tr>\n",
       "      <th>Q9Y3F4</th>\n",
       "      <td>0.00</td>\n",
       "      <td>497213.7</td>\n",
       "      <td>0.00</td>\n",
       "      <td>0.00</td>\n",
       "      <td>0.0</td>\n",
       "      <td>0.0</td>\n",
       "      <td>476313.30</td>\n",
       "      <td>0.00</td>\n",
       "      <td>0.00</td>\n",
       "      <td>0.00</td>\n",
       "    </tr>\n",
       "    <tr>\n",
       "      <th>Q13418</th>\n",
       "      <td>0.00</td>\n",
       "      <td>0.0</td>\n",
       "      <td>0.00</td>\n",
       "      <td>0.00</td>\n",
       "      <td>0.0</td>\n",
       "      <td>0.0</td>\n",
       "      <td>0.00</td>\n",
       "      <td>0.00</td>\n",
       "      <td>0.00</td>\n",
       "      <td>0.00</td>\n",
       "    </tr>\n",
       "    <tr>\n",
       "      <th>P56192</th>\n",
       "      <td>0.00</td>\n",
       "      <td>0.0</td>\n",
       "      <td>0.00</td>\n",
       "      <td>0.00</td>\n",
       "      <td>0.0</td>\n",
       "      <td>0.0</td>\n",
       "      <td>0.00</td>\n",
       "      <td>0.00</td>\n",
       "      <td>0.00</td>\n",
       "      <td>0.00</td>\n",
       "    </tr>\n",
       "    <tr>\n",
       "      <th>Q16795</th>\n",
       "      <td>0.00</td>\n",
       "      <td>0.0</td>\n",
       "      <td>267398.12</td>\n",
       "      <td>0.00</td>\n",
       "      <td>0.0</td>\n",
       "      <td>0.0</td>\n",
       "      <td>0.00</td>\n",
       "      <td>0.00</td>\n",
       "      <td>293017.90</td>\n",
       "      <td>0.00</td>\n",
       "    </tr>\n",
       "  </tbody>\n",
       "</table>\n",
       "<p>1637 rows × 10 columns</p>\n",
       "</div>"
      ],
      "text/plain": [
       "            Subject1_FACS145_B_C10  Subject1_FACS145_B_C11  \\\n",
       "Protein ID                                                   \n",
       "A0A0B4J2D5               887620.10               1370180.1   \n",
       "A0AVT1                   436741.90                703239.6   \n",
       "A0FGR8                        0.00                     0.0   \n",
       "A6NHR9                   164891.88                     0.0   \n",
       "A8MWD9                   520638.70               1043206.2   \n",
       "...                            ...                     ...   \n",
       "Q9Y295                        0.00                     0.0   \n",
       "Q9Y3F4                        0.00                497213.7   \n",
       "Q13418                        0.00                     0.0   \n",
       "P56192                        0.00                     0.0   \n",
       "Q16795                        0.00                     0.0   \n",
       "\n",
       "            Subject1_FACS145_B_C12  Subject1_FACS145_B_C13  \\\n",
       "Protein ID                                                   \n",
       "A0A0B4J2D5              2062984.60              2450476.00   \n",
       "A0AVT1                   862428.60               418775.84   \n",
       "A0FGR8                        0.00                    0.00   \n",
       "A6NHR9                        0.00                    0.00   \n",
       "A8MWD9                   703606.44              1145135.20   \n",
       "...                            ...                     ...   \n",
       "Q9Y295                        0.00                    0.00   \n",
       "Q9Y3F4                        0.00                    0.00   \n",
       "Q13418                        0.00                    0.00   \n",
       "P56192                        0.00                    0.00   \n",
       "Q16795                   267398.12                    0.00   \n",
       "\n",
       "            Subject1_FACS145_B_C9  Subject1_FACS145_T_D10  \\\n",
       "Protein ID                                                  \n",
       "A0A0B4J2D5              1365915.2                328929.3   \n",
       "A0AVT1                  1720851.8                     0.0   \n",
       "A0FGR8                        0.0                     0.0   \n",
       "A6NHR9                        0.0                     0.0   \n",
       "A8MWD9                   465469.2                     0.0   \n",
       "...                           ...                     ...   \n",
       "Q9Y295                        0.0                     0.0   \n",
       "Q9Y3F4                        0.0                     0.0   \n",
       "Q13418                        0.0                     0.0   \n",
       "P56192                        0.0                     0.0   \n",
       "Q16795                        0.0                     0.0   \n",
       "\n",
       "            Subject1_FACS145_T_D11  Subject1_FACS145_T_D12  \\\n",
       "Protein ID                                                   \n",
       "A0A0B4J2D5               361140.16               186872.61   \n",
       "A0AVT1                   586732.06                    0.00   \n",
       "A0FGR8                        0.00                    0.00   \n",
       "A6NHR9                        0.00                    0.00   \n",
       "A8MWD9                   465638.90                    0.00   \n",
       "...                            ...                     ...   \n",
       "Q9Y295                        0.00                    0.00   \n",
       "Q9Y3F4                   476313.30                    0.00   \n",
       "Q13418                        0.00                    0.00   \n",
       "P56192                        0.00                    0.00   \n",
       "Q16795                        0.00                    0.00   \n",
       "\n",
       "            Subject1_FACS145_T_D13  Subject1_FACS145_T_D9  \n",
       "Protein ID                                                 \n",
       "A0A0B4J2D5                    0.00              202940.38  \n",
       "A0AVT1                        0.00              317229.88  \n",
       "A0FGR8                        0.00                   0.00  \n",
       "A6NHR9                   436801.84                   0.00  \n",
       "A8MWD9                        0.00              339949.03  \n",
       "...                            ...                    ...  \n",
       "Q9Y295                        0.00                   0.00  \n",
       "Q9Y3F4                        0.00                   0.00  \n",
       "Q13418                        0.00                   0.00  \n",
       "P56192                        0.00                   0.00  \n",
       "Q16795                   293017.90                   0.00  \n",
       "\n",
       "[1637 rows x 10 columns]"
      ]
     },
     "execution_count": 1,
     "metadata": {},
     "output_type": "execute_result"
    }
   ],
   "source": [
    "import load_data\n",
    "data_raw = load_data.load_FragPipe(month=\"lymph_forPRIDE\")\n",
    "\n",
    "data_raw"
   ]
  },
  {
   "cell_type": "code",
   "execution_count": null,
   "metadata": {},
   "outputs": [],
   "source": []
  },
  {
   "cell_type": "markdown",
   "metadata": {},
   "source": [
    "These are some methods that assist with the data analysis, such as checking if a value was measured or not and if the protein was measured in each type."
   ]
  },
  {
   "cell_type": "code",
   "execution_count": 2,
   "metadata": {},
   "outputs": [],
   "source": [
    "import data_utils"
   ]
  },
  {
   "cell_type": "markdown",
   "metadata": {},
   "source": [
    "Before any analysis, we log normalize and median normalize across runs."
   ]
  },
  {
   "cell_type": "code",
   "execution_count": 3,
   "metadata": {},
   "outputs": [],
   "source": [
    "data_log2_normalized = data_utils.normalize(data_raw)"
   ]
  },
  {
   "cell_type": "markdown",
   "metadata": {},
   "source": [
    "Our next steps will require separating the runs by cell type, to compare B cells to T cells. As you see above, the pattern for naming the columns is \"Intensity \", B or T indicating cell type, and the replicate number. Here we define the list of cell types that the functions should look for based on the naming pattern."
   ]
  },
  {
   "cell_type": "code",
   "execution_count": 4,
   "metadata": {},
   "outputs": [],
   "source": [
    "cell_types=['B_', 'T_']"
   ]
  },
  {
   "cell_type": "markdown",
   "metadata": {},
   "source": [
    "Here we record which proteins are only identified in one cell type. We'll set these aside for now, in the <code>data_in_one_type</code> dataframe. Note that <code>min_reps</code> is the minimum number of replicates required to list a protein as present in one type. This can be changed, i.e., <code>min_reps=5</code> to determine the proteins identified in all 5 replicates of a single type; do not set it to a number greater than the replicates run or no proteins will be returned."
   ]
  },
  {
   "cell_type": "code",
   "execution_count": 5,
   "metadata": {},
   "outputs": [
    {
     "name": "stdout",
     "output_type": "stream",
     "text": [
      "Proteins identified in 5/5 replicates only in:\n",
      "B_    28\n",
      "T_    22\n",
      "dtype: int64\n"
     ]
    }
   ],
   "source": [
    "present_5of5_only_in = data_log2_normalized.apply(data_utils.check_presence_absence, axis=1, \n",
    "                                             min_reps=5, cell_types=cell_types).dropna()\n",
    "print(\"Proteins identified in 5/5 replicates only in:\")\n",
    "print(present_5of5_only_in.value_counts())\n",
    "data_in_5of5_one_type =data_log2_normalized.loc[present_5of5_only_in.index]\n",
    "data_in_5of5_one_type['Type'] = present_5of5_only_in"
   ]
  },
  {
   "cell_type": "markdown",
   "metadata": {},
   "source": [
    "For our analysis, present in more than half, or at least 3 out of 5 replicates, is considered clear although it is interesting to note those proteins identified in all replicates of one type."
   ]
  },
  {
   "cell_type": "code",
   "execution_count": 6,
   "metadata": {},
   "outputs": [
    {
     "name": "stdout",
     "output_type": "stream",
     "text": [
      "Proteins identified only in:\n",
      "B_    71\n",
      "T_    55\n",
      "dtype: int64\n"
     ]
    }
   ],
   "source": [
    "present_only_in = data_log2_normalized.apply(data_utils.check_presence_absence, axis=1, \n",
    "                                             min_reps=3, cell_types=cell_types).dropna()\n",
    "print(\"Proteins identified only in:\")\n",
    "print(present_only_in.value_counts())\n",
    "data_in_one_type =data_log2_normalized.loc[present_only_in.index]\n",
    "data_in_one_type['Type'] = present_only_in"
   ]
  },
  {
   "cell_type": "markdown",
   "metadata": {},
   "source": [
    "Next, we select the proteins that are measured in at least three samples from each group, allowing the calculations to proceed without imputed zero-handling."
   ]
  },
  {
   "cell_type": "code",
   "execution_count": 7,
   "metadata": {},
   "outputs": [],
   "source": [
    "indecies = data_log2_normalized.apply(data_utils.check_three_of_each_type, axis=1, cell_types=cell_types)\n",
    "data = data_log2_normalized[indecies]"
   ]
  },
  {
   "cell_type": "code",
   "execution_count": 8,
   "metadata": {},
   "outputs": [
    {
     "name": "stdout",
     "output_type": "stream",
     "text": [
      "Total groups identified:\n",
      "1637\n",
      "Proteins identified in at least 3 of each cell type:\t\n",
      "961\n"
     ]
    }
   ],
   "source": [
    "print (\"Total groups identified:\")\n",
    "print(data_raw.shape[0])\n",
    "\n",
    "print (\"Proteins identified in at least 3 of each cell type:\\t\")\n",
    "print (data.shape[0])"
   ]
  },
  {
   "cell_type": "markdown",
   "metadata": {},
   "source": [
    "Now we calulate p values using a ttest. "
   ]
  },
  {
   "cell_type": "code",
   "execution_count": 9,
   "metadata": {},
   "outputs": [
    {
     "name": "stderr",
     "output_type": "stream",
     "text": [
      "D:\\Program_Files\\Anaconda\\lib\\site-packages\\scipy\\stats\\_distn_infrastructure.py:1932: RuntimeWarning: invalid value encountered in less_equal\n",
      "  cond2 = cond0 & (x <= _a)\n"
     ]
    }
   ],
   "source": [
    "#Call ttest function\n",
    "tstats = data.apply(data_utils.ttest_wrapper, axis=1, cell_types=cell_types)"
   ]
  },
  {
   "cell_type": "markdown",
   "metadata": {},
   "source": [
    "Here we calculate fold change."
   ]
  },
  {
   "cell_type": "code",
   "execution_count": 10,
   "metadata": {},
   "outputs": [],
   "source": [
    "tstats['log2(B)-log2(T)'] = data.apply(data_utils.get_fold_changes, axis=1, cell_types=cell_types)"
   ]
  },
  {
   "cell_type": "markdown",
   "metadata": {},
   "source": [
    "Fold change and p values allow us to create a volcano plot."
   ]
  },
  {
   "cell_type": "code",
   "execution_count": 11,
   "metadata": {},
   "outputs": [
    {
     "data": {
      "image/png": "[encoded data removed]",
      "text/plain": [
       "<Figure size 432x288 with 1 Axes>"
      ]
     },
     "metadata": {
      "needs_background": "light"
     },
     "output_type": "display_data"
    }
   ],
   "source": [
    "#graph volcano\n",
    "import matplotlib.pyplot as plt\n",
    "import seaborn as sns\n",
    "from numpy import log10\n",
    "tstats['-log p'] = -log10(tstats['pvalue'])\n",
    "\n",
    "figure = sns.scatterplot(x='log2(B)-log2(T)',y='-log p',data=tstats)\n",
    "figure.set_title(\"B cells vs T cells\")\n",
    "#plt.axvline(1, color ='orange')\n",
    "#plt.axvline(-1, color ='orange')\n",
    "plt.axhline(-log10(.05), color ='orange')\n",
    "plt.show()"
   ]
  },
  {
   "cell_type": "markdown",
   "metadata": {},
   "source": [
    "Next we will identify the altered proteins."
   ]
  },
  {
   "cell_type": "code",
   "execution_count": 12,
   "metadata": {
    "scrolled": true
   },
   "outputs": [],
   "source": [
    "altered = tstats.apply(data_utils.is_altered, axis=1, change_factor=False).dropna()"
   ]
  },
  {
   "cell_type": "markdown",
   "metadata": {},
   "source": [
    "These are significantly altered (p<0.01) without restricting by the magnitude of change:"
   ]
  },
  {
   "cell_type": "code",
   "execution_count": 13,
   "metadata": {},
   "outputs": [
    {
     "data": {
      "text/plain": [
       "T cells    69\n",
       "B cells    26\n",
       "dtype: int64"
      ]
     },
     "execution_count": 13,
     "metadata": {},
     "output_type": "execute_result"
    }
   ],
   "source": [
    "altered.value_counts()"
   ]
  },
  {
   "cell_type": "code",
   "execution_count": 14,
   "metadata": {},
   "outputs": [
    {
     "name": "stdout",
     "output_type": "stream",
     "text": [
      "Here are counts for other p and change cutoffs:\n",
      "P<0.05, >150% of the other type\n",
      "T cells    63\n",
      "B cells    33\n",
      "dtype: int64\n",
      "\n",
      "P<0.05, >200% of the other type\n",
      "T cells    24\n",
      "B cells    19\n",
      "dtype: int64\n",
      "\n",
      "P<0.05, >500% of the other type\n",
      "T cells    2\n",
      "B cells    2\n",
      "dtype: int64\n",
      "\n",
      "P<0.01, >150% of the other type\n",
      "T cells    45\n",
      "B cells    19\n",
      "dtype: int64\n",
      "\n",
      "P<0.01, >200% of the other type\n",
      "T cells    21\n",
      "B cells    11\n",
      "dtype: int64\n",
      "\n",
      "P<0.01, >500% of the other type\n",
      "T cells    2\n",
      "dtype: int64\n"
     ]
    }
   ],
   "source": [
    "print(\"Here are counts for other p and change cutoffs:\")\n",
    "print(\"P<0.05, >150% of the other type\")\n",
    "print(tstats.apply(data_utils.is_altered, axis=1, pvalue=.05,change_factor=1.5).value_counts()) #50% increase from either\n",
    "print(\"\\nP<0.05, >200% of the other type\")\n",
    "print(tstats.apply(data_utils.is_altered, axis=1, pvalue=.05,change_factor=2).value_counts()) #Double\n",
    "print(\"\\nP<0.05, >500% of the other type\")\n",
    "print(tstats.apply(data_utils.is_altered, axis=1, pvalue=.05,change_factor=5).value_counts()) #5 times larger\n",
    "\n",
    "print(\"\\nP<0.01, >150% of the other type\")\n",
    "print(tstats.apply(data_utils.is_altered, axis=1, pvalue=.01,change_factor=1.5).value_counts()) #50% increase from either\n",
    "print(\"\\nP<0.01, >200% of the other type\")\n",
    "print(tstats.apply(data_utils.is_altered, axis=1, pvalue=.01,change_factor=2).value_counts()) #Double\n",
    "print(\"\\nP<0.01, >500% of the other type\")\n",
    "print(tstats.apply(data_utils.is_altered, axis=1, pvalue=.01,change_factor=5).value_counts()) #5 times larger"
   ]
  },
  {
   "cell_type": "markdown",
   "metadata": {},
   "source": [
    "### Differentially expressed proteins"
   ]
  },
  {
   "cell_type": "code",
   "execution_count": 15,
   "metadata": {},
   "outputs": [
    {
     "data": {
      "image/png": "[encoded data removed]",
      "text/plain": [
       "<Figure size 432x288 with 1 Axes>"
      ]
     },
     "metadata": {
      "needs_background": "light"
     },
     "output_type": "display_data"
    }
   ],
   "source": [
    "figure = sns.scatterplot(x='log2(B)-log2(T)',y='-log p',data=tstats)\n",
    "figure2 = sns.scatterplot(x='log2(B)-log2(T)',y='-log p',data=tstats.loc[altered.index])\n",
    "plt.rc('axes',labelsize=25)\n",
    "plt.xticks(fontsize=18)\n",
    "plt.yticks(fontsize=18)\n",
    "#plt.title(\"B cells vs T cells\", fontsize=20)\n",
    "\n",
    "plt.savefig(\"data/AutoPOTS_forPRIDE/BvsT.png\", bbox_inches='tight', dpi=300)"
   ]
  },
  {
   "cell_type": "markdown",
   "metadata": {},
   "source": [
    "This shows the differentially expressed proteins. Recall that this dataset is restricted to those expressed in at least three of each cell type.\n",
    "\n",
    "The next step is to identify those proteins by name. Here we get the protein names from the fasta file, which remain the same regardless of which software the data was quantified using."
   ]
  },
  {
   "cell_type": "code",
   "execution_count": 16,
   "metadata": {},
   "outputs": [],
   "source": [
    "protein_names = load_data.load_fasta()"
   ]
  },
  {
   "cell_type": "code",
   "execution_count": 17,
   "metadata": {},
   "outputs": [],
   "source": [
    "import pandas as pd\n",
    "protein_names_by_group={}\n",
    "for ID in data_raw.index:\n",
    "    if ';' in ID:\n",
    "        ids = ID.split(';')\n",
    "        names=''\n",
    "        for i in ids:\n",
    "            if i in protein_names.index:\n",
    "                names=names + protein_names[i] + ';'\n",
    "        names = names[:-1]\n",
    "        protein_names_by_group[ID] = names\n",
    "    else:\n",
    "        if ID in protein_names.index:\n",
    "            protein_names_by_group[ID]=protein_names[ID]\n",
    "protein_names_by_group = pd.Series(list(protein_names_by_group.values()), index=protein_names_by_group.keys())"
   ]
  },
  {
   "cell_type": "markdown",
   "metadata": {},
   "source": [
    "Here we add the names to the <code>tstats</code> dataframe, which contains the fold changes for each protein. Then we can list the proteins that are altered. Optionally, use <code> head()</code> to display the first few or <code>to_csv</code> to write out to a file. We now split up the proteins heightened in B cells from those heightened in T cells."
   ]
  },
  {
   "cell_type": "code",
   "execution_count": 18,
   "metadata": {},
   "outputs": [],
   "source": [
    "tstats['Name']=protein_names_by_group\n",
    "tstats['GeneID'] = tstats.Name.apply(lambda n: str(n).split('_HUMAN')[0])\n",
    "\n",
    "altered_proteins = tstats.loc[altered.index].sort_values('log2(B)-log2(T)',\n",
    "                        ascending=False)[['Name','GeneID','log2(B)-log2(T)','pvalue']]\n",
    "higher_in_B_cells = altered_proteins.loc[altered_proteins['log2(B)-log2(T)'] >0]\n",
    "higher_in_T_cells = altered_proteins.loc[altered_proteins['log2(B)-log2(T)'] <0]\n",
    "\n",
    "#To write out to a file, use:\n",
    "#altered_proteins.to_csv('data/filename.tsv', sep='\\t')"
   ]
  },
  {
   "cell_type": "markdown",
   "metadata": {},
   "source": [
    "Next we do the same for those only identified in one cell type."
   ]
  },
  {
   "cell_type": "code",
   "execution_count": 19,
   "metadata": {},
   "outputs": [],
   "source": [
    "data_in_one_type['Name'] = protein_names_by_group\n",
    "data_in_one_type['GeneID']=data_in_one_type.Name.apply(lambda n: str(n).split('_HUMAN')[0])\n",
    "\n",
    "B_cell_only_geneset = data_in_one_type[(data_in_one_type.Type==' B_')]\n",
    "T_cell_only_geneset= data_in_one_type[(data_in_one_type.Type==' T_')]"
   ]
  },
  {
   "cell_type": "markdown",
   "metadata": {},
   "source": [
    "The following are the names to get the set of proteins as mentioned. For clarity, they are simply listed rather than run as code here."
   ]
  },
  {
   "cell_type": "markdown",
   "metadata": {},
   "source": [
    "### Proteins Higher in B Cells:"
   ]
  },
  {
   "cell_type": "raw",
   "metadata": {},
   "source": [
    "higher_in_B_cells"
   ]
  },
  {
   "cell_type": "markdown",
   "metadata": {},
   "source": [
    "### Proteins Only in B Cells:"
   ]
  },
  {
   "cell_type": "raw",
   "metadata": {},
   "source": [
    "B_cell_only_geneset[['Name', 'GeneID']]"
   ]
  },
  {
   "cell_type": "markdown",
   "metadata": {},
   "source": [
    "### Proteins higher or only in B cells by GeneID\n",
    "<code>B_cell_set</code> is defined here as both the above lists of names, those higher or only in B cells."
   ]
  },
  {
   "cell_type": "code",
   "execution_count": 20,
   "metadata": {},
   "outputs": [],
   "source": [
    "B_cell_set = list(higher_in_B_cells.GeneID)+list(B_cell_only_geneset.GeneID)"
   ]
  },
  {
   "cell_type": "markdown",
   "metadata": {},
   "source": [
    "### Proteins Higher in T Cells:"
   ]
  },
  {
   "cell_type": "raw",
   "metadata": {
    "scrolled": false
   },
   "source": [
    "higher_in_T_cells.sort_values('log2(B)-log2(T)',ascending=True)"
   ]
  },
  {
   "cell_type": "markdown",
   "metadata": {},
   "source": [
    "### Proteins Only in T Cells:"
   ]
  },
  {
   "cell_type": "raw",
   "metadata": {},
   "source": [
    "T_cell_only_geneset[['Name', 'GeneID']]"
   ]
  },
  {
   "cell_type": "markdown",
   "metadata": {},
   "source": [
    "### Proteins higher or only in T cells by GeneID\n",
    "<code>T_cell_set</code> is defined here as both the above lists of names, those higher or only in T cells."
   ]
  },
  {
   "cell_type": "code",
   "execution_count": 21,
   "metadata": {},
   "outputs": [],
   "source": [
    "T_cell_set = list(higher_in_T_cells.GeneID)+list(T_cell_only_geneset.GeneID)"
   ]
  },
  {
   "cell_type": "markdown",
   "metadata": {},
   "source": [
    "## Suplementary Table: Distinguished Proteins\n",
    "Here we combine the data from the four categories in one dataframe and output it to a tab-separated file."
   ]
  },
  {
   "cell_type": "markdown",
   "metadata": {},
   "source": [
    "First, we get the names ofthe distinguished proteins."
   ]
  },
  {
   "cell_type": "code",
   "execution_count": 22,
   "metadata": {},
   "outputs": [],
   "source": [
    "distinguished_proteins = pd.concat([data_in_one_type[[\"GeneID\"]],\n",
    "                                   altered_proteins[[\"GeneID\", \"log2(B)-log2(T)\", \"pvalue\"]]])"
   ]
  },
  {
   "cell_type": "markdown",
   "metadata": {},
   "source": [
    "Next, we get the intensity data for these proteins."
   ]
  },
  {
   "cell_type": "code",
   "execution_count": 23,
   "metadata": {},
   "outputs": [],
   "source": [
    "altered_data = data.loc[altered.index]\n",
    "one_type_data = data_in_one_type.drop(columns=[\"Type\",\"Name\",\"GeneID\"], inplace=False)\n",
    "altered_data = pd.concat([altered_data,one_type_data])"
   ]
  },
  {
   "cell_type": "markdown",
   "metadata": {},
   "source": [
    "Next, we average by cell type, creating new columns in our <code>distinguished_proteins</code> dataframe."
   ]
  },
  {
   "cell_type": "code",
   "execution_count": 24,
   "metadata": {},
   "outputs": [],
   "source": [
    "import numpy as np\n",
    "samples=np.array(data_raw.columns.values)\n",
    "\n",
    "from statistics import mean\n",
    "\n",
    "def mean_noNan(ser):\n",
    "    ser = ser.dropna()\n",
    "    if len(ser)==0:\n",
    "        return np.nan\n",
    "    return mean(ser)\n",
    "\n",
    "for cell_type in cell_types:\n",
    "    cells_of_type = list(s for i,s in enumerate(samples) if cell_type in s)\n",
    "    type_data = altered_data[cells_of_type]\n",
    "    means = type_data.apply(mean_noNan, axis=1)\n",
    "    \n",
    "    distinguished_proteins[(\"Mean {0}cells\".format(cell_type))] = means"
   ]
  },
  {
   "cell_type": "markdown",
   "metadata": {},
   "source": [
    "Here we check the column order and rearrange it as we like."
   ]
  },
  {
   "cell_type": "code",
   "execution_count": 25,
   "metadata": {
    "scrolled": true
   },
   "outputs": [
    {
     "data": {
      "text/plain": [
       "Index(['GeneID', 'log2(B)-log2(T)', 'pvalue', 'Mean B_cells', 'Mean T_cells'], dtype='object')"
      ]
     },
     "execution_count": 25,
     "metadata": {},
     "output_type": "execute_result"
    }
   ],
   "source": [
    "distinguished_proteins.columns"
   ]
  },
  {
   "cell_type": "code",
   "execution_count": 26,
   "metadata": {},
   "outputs": [],
   "source": [
    "distinguished_proteins = distinguished_proteins[[\"GeneID\", \"Mean B_cells\", \"Mean T_cells\", \"log2(B)-log2(T)\", \"pvalue\"]]"
   ]
  },
  {
   "cell_type": "markdown",
   "metadata": {},
   "source": [
    "Here we sort the proteins. This will sort them such that high abundance in B come first, down it low abundance in B, and finally sorting the T only proteins from low to high."
   ]
  },
  {
   "cell_type": "code",
   "execution_count": 27,
   "metadata": {},
   "outputs": [],
   "source": [
    "distinguished_proteins.sort_values([\"Mean B_cells\", \"Mean T_cells\"], ascending=[False, False], inplace=True)"
   ]
  },
  {
   "cell_type": "markdown",
   "metadata": {},
   "source": [
    "Finally, we have the finished dataframe."
   ]
  },
  {
   "cell_type": "code",
   "execution_count": 28,
   "metadata": {},
   "outputs": [
    {
     "data": {
      "text/html": [
       "<div>\n",
       "<style scoped>\n",
       "    .dataframe tbody tr th:only-of-type {\n",
       "        vertical-align: middle;\n",
       "    }\n",
       "\n",
       "    .dataframe tbody tr th {\n",
       "        vertical-align: top;\n",
       "    }\n",
       "\n",
       "    .dataframe thead th {\n",
       "        text-align: right;\n",
       "    }\n",
       "</style>\n",
       "<table border=\"1\" class=\"dataframe\">\n",
       "  <thead>\n",
       "    <tr style=\"text-align: right;\">\n",
       "      <th></th>\n",
       "      <th>GeneID</th>\n",
       "      <th>Mean B_cells</th>\n",
       "      <th>Mean T_cells</th>\n",
       "      <th>log2(B)-log2(T)</th>\n",
       "      <th>pvalue</th>\n",
       "    </tr>\n",
       "    <tr>\n",
       "      <th>Protein ID</th>\n",
       "      <th></th>\n",
       "      <th></th>\n",
       "      <th></th>\n",
       "      <th></th>\n",
       "      <th></th>\n",
       "    </tr>\n",
       "  </thead>\n",
       "  <tbody>\n",
       "    <tr>\n",
       "      <th>P68032</th>\n",
       "      <td>ACTC</td>\n",
       "      <td>8.237346</td>\n",
       "      <td>8.520918</td>\n",
       "      <td>-0.283572</td>\n",
       "      <td>0.009440</td>\n",
       "    </tr>\n",
       "    <tr>\n",
       "      <th>P68133</th>\n",
       "      <td>ACTS</td>\n",
       "      <td>8.227920</td>\n",
       "      <td>8.530345</td>\n",
       "      <td>-0.302425</td>\n",
       "      <td>0.007259</td>\n",
       "    </tr>\n",
       "    <tr>\n",
       "      <th>Q06830</th>\n",
       "      <td>PRDX1</td>\n",
       "      <td>6.089962</td>\n",
       "      <td>5.587467</td>\n",
       "      <td>0.502495</td>\n",
       "      <td>0.002417</td>\n",
       "    </tr>\n",
       "    <tr>\n",
       "      <th>Q6DN03</th>\n",
       "      <td>H2B2C</td>\n",
       "      <td>4.889238</td>\n",
       "      <td>5.874517</td>\n",
       "      <td>-0.985278</td>\n",
       "      <td>0.000082</td>\n",
       "    </tr>\n",
       "    <tr>\n",
       "      <th>P59665</th>\n",
       "      <td>DEF1</td>\n",
       "      <td>4.854990</td>\n",
       "      <td>3.885252</td>\n",
       "      <td>0.969738</td>\n",
       "      <td>0.000293</td>\n",
       "    </tr>\n",
       "    <tr>\n",
       "      <th>...</th>\n",
       "      <td>...</td>\n",
       "      <td>...</td>\n",
       "      <td>...</td>\n",
       "      <td>...</td>\n",
       "      <td>...</td>\n",
       "    </tr>\n",
       "    <tr>\n",
       "      <th>Q9UHL4</th>\n",
       "      <td>DPP2</td>\n",
       "      <td>NaN</td>\n",
       "      <td>-2.454157</td>\n",
       "      <td>NaN</td>\n",
       "      <td>NaN</td>\n",
       "    </tr>\n",
       "    <tr>\n",
       "      <th>Q8IV04</th>\n",
       "      <td>TB10C</td>\n",
       "      <td>NaN</td>\n",
       "      <td>-2.623243</td>\n",
       "      <td>NaN</td>\n",
       "      <td>NaN</td>\n",
       "    </tr>\n",
       "    <tr>\n",
       "      <th>P05023</th>\n",
       "      <td>AT1A1</td>\n",
       "      <td>NaN</td>\n",
       "      <td>-2.673664</td>\n",
       "      <td>NaN</td>\n",
       "      <td>NaN</td>\n",
       "    </tr>\n",
       "    <tr>\n",
       "      <th>P49863</th>\n",
       "      <td>GRAK</td>\n",
       "      <td>NaN</td>\n",
       "      <td>-2.699544</td>\n",
       "      <td>NaN</td>\n",
       "      <td>NaN</td>\n",
       "    </tr>\n",
       "    <tr>\n",
       "      <th>O60831</th>\n",
       "      <td>PRAF2</td>\n",
       "      <td>NaN</td>\n",
       "      <td>-3.134190</td>\n",
       "      <td>NaN</td>\n",
       "      <td>NaN</td>\n",
       "    </tr>\n",
       "  </tbody>\n",
       "</table>\n",
       "<p>221 rows × 5 columns</p>\n",
       "</div>"
      ],
      "text/plain": [
       "           GeneID  Mean B_cells  Mean T_cells  log2(B)-log2(T)    pvalue\n",
       "Protein ID                                                              \n",
       "P68032       ACTC      8.237346      8.520918        -0.283572  0.009440\n",
       "P68133       ACTS      8.227920      8.530345        -0.302425  0.007259\n",
       "Q06830      PRDX1      6.089962      5.587467         0.502495  0.002417\n",
       "Q6DN03      H2B2C      4.889238      5.874517        -0.985278  0.000082\n",
       "P59665       DEF1      4.854990      3.885252         0.969738  0.000293\n",
       "...           ...           ...           ...              ...       ...\n",
       "Q9UHL4       DPP2           NaN     -2.454157              NaN       NaN\n",
       "Q8IV04      TB10C           NaN     -2.623243              NaN       NaN\n",
       "P05023      AT1A1           NaN     -2.673664              NaN       NaN\n",
       "P49863       GRAK           NaN     -2.699544              NaN       NaN\n",
       "O60831      PRAF2           NaN     -3.134190              NaN       NaN\n",
       "\n",
       "[221 rows x 5 columns]"
      ]
     },
     "execution_count": 28,
     "metadata": {},
     "output_type": "execute_result"
    }
   ],
   "source": [
    "distinguished_proteins"
   ]
  },
  {
   "cell_type": "markdown",
   "metadata": {},
   "source": [
    "The last step is saving this dataframe to a file."
   ]
  },
  {
   "cell_type": "code",
   "execution_count": 29,
   "metadata": {},
   "outputs": [],
   "source": [
    "distinguished_proteins.to_csv('data/AutoPOTS_forPRIDE/distinguished_proteins_FP_nMBR.tsv', sep='\\t')"
   ]
  }
 ],
 "metadata": {
  "kernelspec": {
   "display_name": "Python 3",
   "language": "python",
   "name": "python3"
  },
  "language_info": {
   "codemirror_mode": {
    "name": "ipython",
    "version": 3
   },
   "file_extension": ".py",
   "mimetype": "text/x-python",
   "name": "python",
   "nbconvert_exporter": "python",
   "pygments_lexer": "ipython3",
   "version": "3.8.3"
  }
 },
 "nbformat": 4,
 "nbformat_minor": 2
}
