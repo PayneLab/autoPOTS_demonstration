{
 "cells": [
  {
   "cell_type": "markdown",
   "metadata": {},
   "source": [
    "## Counts Overview\n",
    "Here we take a look at number of proteins identified and quantified in each of the lymphocyte runs."
   ]
  },
  {
   "cell_type": "code",
   "execution_count": 1,
   "metadata": {},
   "outputs": [],
   "source": [
    "import load_data\n",
    "data_raw=load_data.load_FragPipe(month=\"lymph_forPRIDE\")"
   ]
  },
  {
   "cell_type": "markdown",
   "metadata": {},
   "source": [
    "Here we load functions that will be used."
   ]
  },
  {
   "cell_type": "code",
   "execution_count": 3,
   "metadata": {},
   "outputs": [],
   "source": [
    "import matplotlib.pyplot as plt\n",
    "from statistics import mean\n",
    "import math\n",
    "from numpy import isnan\n",
    "import seaborn as sns\n",
    "\n",
    "import numpy as np\n",
    "import pandas as pd"
   ]
  },
  {
   "cell_type": "markdown",
   "metadata": {},
   "source": [
    "Now we can get the number of non-zero values in each sample."
   ]
  },
  {
   "cell_type": "code",
   "execution_count": 4,
   "metadata": {},
   "outputs": [
    {
     "data": {
      "text/plain": [
       "Subject1_FACS145_B_C10    1151\n",
       "Subject1_FACS145_B_C11    1030\n",
       "Subject1_FACS145_B_C12    1196\n",
       "Subject1_FACS145_B_C13    1016\n",
       "Subject1_FACS145_B_C9     1085\n",
       "Subject1_FACS145_T_D10    1052\n",
       "Subject1_FACS145_T_D11    1188\n",
       "Subject1_FACS145_T_D12    1060\n",
       "Subject1_FACS145_T_D13    1068\n",
       "Subject1_FACS145_T_D9     1098\n",
       "dtype: int64"
      ]
     },
     "execution_count": 4,
     "metadata": {},
     "output_type": "execute_result"
    }
   ],
   "source": [
    "counts = data_raw.apply(np.count_nonzero)\n",
    "counts"
   ]
  },
  {
   "cell_type": "code",
   "execution_count": 5,
   "metadata": {},
   "outputs": [
    {
     "name": "stdout",
     "output_type": "stream",
     "text": [
      "Overall mean:\t 1094.4\n",
      "B_ mean:\t 1095.6\n",
      "T_ mean:\t 1093.2\n"
     ]
    }
   ],
   "source": [
    "print(\"Overall mean:\\t\",mean(counts))\n",
    "\n",
    "samples=np.array(data_raw.columns.values)\n",
    "\n",
    "cell_types = ['B_','T_']\n",
    "for cell_type in cell_types:\n",
    "    cells_of_type = list(s for i,s in enumerate(samples) if cell_type in s)\n",
    "    print(cell_type,'mean:\\t',mean(counts[cells_of_type]))"
   ]
  },
  {
   "cell_type": "markdown",
   "metadata": {},
   "source": [
    "Here we visualized that same data for clarity. "
   ]
  },
  {
   "cell_type": "code",
   "execution_count": 6,
   "metadata": {},
   "outputs": [
    {
     "data": {
      "text/plain": [
       "<matplotlib.axes._subplots.AxesSubplot at 0x1dfc1f6d760>"
      ]
     },
     "execution_count": 6,
     "metadata": {},
     "output_type": "execute_result"
    },
    {
     "data": {
      "image/png": "[encoded data removed]",
      "text/plain": [
       "<Figure size 432x288 with 1 Axes>"
      ]
     },
     "metadata": {
      "needs_background": "light"
     },
     "output_type": "display_data"
    }
   ],
   "source": [
    "counts.sort_values().plot.bar()"
   ]
  },
  {
   "cell_type": "markdown",
   "metadata": {},
   "source": [
    "To further improve the bar plot, we will assign a color to each type to make the replicates more distinct."
   ]
  },
  {
   "cell_type": "code",
   "execution_count": 7,
   "metadata": {
    "scrolled": false
   },
   "outputs": [
    {
     "name": "stdout",
     "output_type": "stream",
     "text": [
      "B_\n",
      "T_\n"
     ]
    }
   ],
   "source": [
    "cell_types = ['B_','T_',]\n",
    "colors = ['#0066ff','orange','#0066ff','orange','#0066ff']\n",
    "samples=np.array(data_raw.columns.values)\n",
    "\n",
    "color_by_type = []\n",
    "for cell_type in cell_types:\n",
    "    cells_of_type = list(s for i,s in enumerate(samples) if cell_type in s)\n",
    "    print(cell_type)\n",
    "    for c in cells_of_type:\n",
    "        color_by_type.append(colors[0])\n",
    "    colors.pop(0)\n",
    "    "
   ]
  },
  {
   "cell_type": "code",
   "execution_count": 8,
   "metadata": {},
   "outputs": [
    {
     "data": {
      "text/plain": [
       "['Subject1_FACS145_T_D10',\n",
       " 'Subject1_FACS145_T_D11',\n",
       " 'Subject1_FACS145_T_D12',\n",
       " 'Subject1_FACS145_T_D13',\n",
       " 'Subject1_FACS145_T_D9']"
      ]
     },
     "execution_count": 8,
     "metadata": {},
     "output_type": "execute_result"
    }
   ],
   "source": [
    "cells_of_type"
   ]
  },
  {
   "cell_type": "markdown",
   "metadata": {},
   "source": [
    "Replot with colors and labels."
   ]
  },
  {
   "cell_type": "code",
   "execution_count": 9,
   "metadata": {
    "scrolled": false
   },
   "outputs": [
    {
     "data": {
      "text/plain": [
       "Text(0, 0.5, 'Number of proteins')"
      ]
     },
     "execution_count": 9,
     "metadata": {},
     "output_type": "execute_result"
    },
    {
     "data": {
      "image/png": "[encoded data removed]",
      "text/plain": [
       "<Figure size 432x288 with 1 Axes>"
      ]
     },
     "metadata": {
      "needs_background": "light"
     },
     "output_type": "display_data"
    }
   ],
   "source": [
    "fig = counts.sort_values().plot.bar(color=color_by_type)\n",
    "plt.setp(fig.get_xticklabels(), rotation=45,horizontalalignment='right')\n",
    "plt.xlabel(\"Sample\")\n",
    "plt.ylabel(\"Number of proteins\")\n",
    "#plt.show()\n",
    "#plt.savefig('data/figures/protein_counts_lymph.png', dpi=300, bbox_inches='tight')"
   ]
  },
  {
   "cell_type": "markdown",
   "metadata": {},
   "source": [
    "Here we see that the number of protein groups quantified in a sample ranges from about 1000 to 1200."
   ]
  }
 ],
 "metadata": {
  "kernelspec": {
   "display_name": "Python 3",
   "language": "python",
   "name": "python3"
  },
  "language_info": {
   "codemirror_mode": {
    "name": "ipython",
    "version": 3
   },
   "file_extension": ".py",
   "mimetype": "text/x-python",
   "name": "python",
   "nbconvert_exporter": "python",
   "pygments_lexer": "ipython3",
   "version": "3.8.3"
  }
 },
 "nbformat": 4,
 "nbformat_minor": 4
}
