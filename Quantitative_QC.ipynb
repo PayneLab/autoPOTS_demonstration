{
 "cells": [
  {
   "cell_type": "markdown",
   "metadata": {},
   "source": [
    "## Quantitative QC by CV calculation\n",
    "The data used in this notebook is lymphocyte data for one patient's B cells and T cells. We use this data to show the proteome variation between the cell types. Here, we calculate CVs to show the quality of the data.\n",
    "\n",
    "After calculating CVs, we calculate Spearman correlation among replicates.\n"
   ]
  },
  {
   "cell_type": "markdown",
   "metadata": {},
   "source": [
    "First, we import our loader module. This brings the functions defined there (in our repository at ~/load_data.py) into scope so we can use them in this script. Then we can load our data and store it as <code>data</code>.\n",
    "\n",
    "Calling <code>head</code> shows the first several lines of the dataframe, which provides an idea of the type of data present and the structure of the dataframe."
   ]
  },
  {
   "cell_type": "code",
   "execution_count": 1,
   "metadata": {},
   "outputs": [
    {
     "data": {
      "text/html": [
       "<div>\n",
       "<style scoped>\n",
       "    .dataframe tbody tr th:only-of-type {\n",
       "        vertical-align: middle;\n",
       "    }\n",
       "\n",
       "    .dataframe tbody tr th {\n",
       "        vertical-align: top;\n",
       "    }\n",
       "\n",
       "    .dataframe thead th {\n",
       "        text-align: right;\n",
       "    }\n",
       "</style>\n",
       "<table border=\"1\" class=\"dataframe\">\n",
       "  <thead>\n",
       "    <tr style=\"text-align: right;\">\n",
       "      <th></th>\n",
       "      <th>Subject1_FACS145_B_C10</th>\n",
       "      <th>Subject1_FACS145_B_C11</th>\n",
       "      <th>Subject1_FACS145_B_C12</th>\n",
       "      <th>Subject1_FACS145_B_C13</th>\n",
       "      <th>Subject1_FACS145_B_C9</th>\n",
       "      <th>Subject1_FACS145_T_D10</th>\n",
       "      <th>Subject1_FACS145_T_D11</th>\n",
       "      <th>Subject1_FACS145_T_D12</th>\n",
       "      <th>Subject1_FACS145_T_D13</th>\n",
       "      <th>Subject1_FACS145_T_D9</th>\n",
       "    </tr>\n",
       "    <tr>\n",
       "      <th>Protein ID</th>\n",
       "      <th></th>\n",
       "      <th></th>\n",
       "      <th></th>\n",
       "      <th></th>\n",
       "      <th></th>\n",
       "      <th></th>\n",
       "      <th></th>\n",
       "      <th></th>\n",
       "      <th></th>\n",
       "      <th></th>\n",
       "    </tr>\n",
       "  </thead>\n",
       "  <tbody>\n",
       "    <tr>\n",
       "      <th>A0A0B4J2D5</th>\n",
       "      <td>887620.10</td>\n",
       "      <td>1370180.1</td>\n",
       "      <td>2062984.60</td>\n",
       "      <td>2450476.00</td>\n",
       "      <td>1365915.2</td>\n",
       "      <td>328929.3</td>\n",
       "      <td>361140.16</td>\n",
       "      <td>186872.61</td>\n",
       "      <td>0.00</td>\n",
       "      <td>202940.38</td>\n",
       "    </tr>\n",
       "    <tr>\n",
       "      <th>A0AVT1</th>\n",
       "      <td>436741.90</td>\n",
       "      <td>703239.6</td>\n",
       "      <td>862428.60</td>\n",
       "      <td>418775.84</td>\n",
       "      <td>1720851.8</td>\n",
       "      <td>0.0</td>\n",
       "      <td>586732.06</td>\n",
       "      <td>0.00</td>\n",
       "      <td>0.00</td>\n",
       "      <td>317229.88</td>\n",
       "    </tr>\n",
       "    <tr>\n",
       "      <th>A0FGR8</th>\n",
       "      <td>0.00</td>\n",
       "      <td>0.0</td>\n",
       "      <td>0.00</td>\n",
       "      <td>0.00</td>\n",
       "      <td>0.0</td>\n",
       "      <td>0.0</td>\n",
       "      <td>0.00</td>\n",
       "      <td>0.00</td>\n",
       "      <td>0.00</td>\n",
       "      <td>0.00</td>\n",
       "    </tr>\n",
       "    <tr>\n",
       "      <th>A6NHR9</th>\n",
       "      <td>164891.88</td>\n",
       "      <td>0.0</td>\n",
       "      <td>0.00</td>\n",
       "      <td>0.00</td>\n",
       "      <td>0.0</td>\n",
       "      <td>0.0</td>\n",
       "      <td>0.00</td>\n",
       "      <td>0.00</td>\n",
       "      <td>436801.84</td>\n",
       "      <td>0.00</td>\n",
       "    </tr>\n",
       "    <tr>\n",
       "      <th>A8MWD9</th>\n",
       "      <td>520638.70</td>\n",
       "      <td>1043206.2</td>\n",
       "      <td>703606.44</td>\n",
       "      <td>1145135.20</td>\n",
       "      <td>465469.2</td>\n",
       "      <td>0.0</td>\n",
       "      <td>465638.90</td>\n",
       "      <td>0.00</td>\n",
       "      <td>0.00</td>\n",
       "      <td>339949.03</td>\n",
       "    </tr>\n",
       "  </tbody>\n",
       "</table>\n",
       "</div>"
      ],
      "text/plain": [
       "            Subject1_FACS145_B_C10  Subject1_FACS145_B_C11  \\\n",
       "Protein ID                                                   \n",
       "A0A0B4J2D5               887620.10               1370180.1   \n",
       "A0AVT1                   436741.90                703239.6   \n",
       "A0FGR8                        0.00                     0.0   \n",
       "A6NHR9                   164891.88                     0.0   \n",
       "A8MWD9                   520638.70               1043206.2   \n",
       "\n",
       "            Subject1_FACS145_B_C12  Subject1_FACS145_B_C13  \\\n",
       "Protein ID                                                   \n",
       "A0A0B4J2D5              2062984.60              2450476.00   \n",
       "A0AVT1                   862428.60               418775.84   \n",
       "A0FGR8                        0.00                    0.00   \n",
       "A6NHR9                        0.00                    0.00   \n",
       "A8MWD9                   703606.44              1145135.20   \n",
       "\n",
       "            Subject1_FACS145_B_C9  Subject1_FACS145_T_D10  \\\n",
       "Protein ID                                                  \n",
       "A0A0B4J2D5              1365915.2                328929.3   \n",
       "A0AVT1                  1720851.8                     0.0   \n",
       "A0FGR8                        0.0                     0.0   \n",
       "A6NHR9                        0.0                     0.0   \n",
       "A8MWD9                   465469.2                     0.0   \n",
       "\n",
       "            Subject1_FACS145_T_D11  Subject1_FACS145_T_D12  \\\n",
       "Protein ID                                                   \n",
       "A0A0B4J2D5               361140.16               186872.61   \n",
       "A0AVT1                   586732.06                    0.00   \n",
       "A0FGR8                        0.00                    0.00   \n",
       "A6NHR9                        0.00                    0.00   \n",
       "A8MWD9                   465638.90                    0.00   \n",
       "\n",
       "            Subject1_FACS145_T_D13  Subject1_FACS145_T_D9  \n",
       "Protein ID                                                 \n",
       "A0A0B4J2D5                    0.00              202940.38  \n",
       "A0AVT1                        0.00              317229.88  \n",
       "A0FGR8                        0.00                   0.00  \n",
       "A6NHR9                   436801.84                   0.00  \n",
       "A8MWD9                        0.00              339949.03  "
      ]
     },
     "execution_count": 1,
     "metadata": {},
     "output_type": "execute_result"
    }
   ],
   "source": [
    "import load_data\n",
    "data_raw = load_data.load_FragPipe(month=\"lymph_forPRIDE\")\n",
    "#data_raw=load_data.load_max_quant()\n",
    "data_raw.head()"
   ]
  },
  {
   "cell_type": "markdown",
   "metadata": {},
   "source": [
    "Now we normalize across runs. Note that following median normalization, we reverse the log2, leaving the data aligned between runs but allowing the most typical coefficient variation calculation."
   ]
  },
  {
   "cell_type": "code",
   "execution_count": 2,
   "metadata": {},
   "outputs": [],
   "source": [
    "import data_utils\n",
    "data_log2_normalized = data_utils.normalize(data_raw)\n",
    "data_normalized = data_log2_normalized.apply(lambda series: 2**series)"
   ]
  },
  {
   "cell_type": "markdown",
   "metadata": {},
   "source": [
    "Next, we select the proteins that are measured in at least three samples from each group, allowing the calculations to proceed without imputed zero-handling."
   ]
  },
  {
   "cell_type": "code",
   "execution_count": 3,
   "metadata": {},
   "outputs": [
    {
     "data": {
      "text/html": [
       "<div>\n",
       "<style scoped>\n",
       "    .dataframe tbody tr th:only-of-type {\n",
       "        vertical-align: middle;\n",
       "    }\n",
       "\n",
       "    .dataframe tbody tr th {\n",
       "        vertical-align: top;\n",
       "    }\n",
       "\n",
       "    .dataframe thead th {\n",
       "        text-align: right;\n",
       "    }\n",
       "</style>\n",
       "<table border=\"1\" class=\"dataframe\">\n",
       "  <thead>\n",
       "    <tr style=\"text-align: right;\">\n",
       "      <th></th>\n",
       "      <th>Subject1_FACS145_B_C10</th>\n",
       "      <th>Subject1_FACS145_B_C11</th>\n",
       "      <th>Subject1_FACS145_B_C12</th>\n",
       "      <th>Subject1_FACS145_B_C13</th>\n",
       "      <th>Subject1_FACS145_B_C9</th>\n",
       "      <th>Subject1_FACS145_T_D10</th>\n",
       "      <th>Subject1_FACS145_T_D11</th>\n",
       "      <th>Subject1_FACS145_T_D12</th>\n",
       "      <th>Subject1_FACS145_T_D13</th>\n",
       "      <th>Subject1_FACS145_T_D9</th>\n",
       "    </tr>\n",
       "    <tr>\n",
       "      <th>Protein ID</th>\n",
       "      <th></th>\n",
       "      <th></th>\n",
       "      <th></th>\n",
       "      <th></th>\n",
       "      <th></th>\n",
       "      <th></th>\n",
       "      <th></th>\n",
       "      <th></th>\n",
       "      <th></th>\n",
       "      <th></th>\n",
       "    </tr>\n",
       "  </thead>\n",
       "  <tbody>\n",
       "    <tr>\n",
       "      <th>A0A0B4J2D5</th>\n",
       "      <td>0.631524</td>\n",
       "      <td>0.799003</td>\n",
       "      <td>1.491595</td>\n",
       "      <td>1.263511</td>\n",
       "      <td>0.872645</td>\n",
       "      <td>0.205904</td>\n",
       "      <td>0.275353</td>\n",
       "      <td>0.123126</td>\n",
       "      <td>NaN</td>\n",
       "      <td>0.143742</td>\n",
       "    </tr>\n",
       "    <tr>\n",
       "      <th>B5ME19</th>\n",
       "      <td>0.542739</td>\n",
       "      <td>0.606939</td>\n",
       "      <td>0.458596</td>\n",
       "      <td>0.340985</td>\n",
       "      <td>0.231616</td>\n",
       "      <td>0.236722</td>\n",
       "      <td>0.616410</td>\n",
       "      <td>0.401453</td>\n",
       "      <td>0.685462</td>\n",
       "      <td>0.531903</td>\n",
       "    </tr>\n",
       "    <tr>\n",
       "      <th>O00148</th>\n",
       "      <td>4.798707</td>\n",
       "      <td>4.550247</td>\n",
       "      <td>5.487086</td>\n",
       "      <td>3.434898</td>\n",
       "      <td>3.532960</td>\n",
       "      <td>4.414555</td>\n",
       "      <td>4.249327</td>\n",
       "      <td>4.517552</td>\n",
       "      <td>4.307400</td>\n",
       "      <td>3.772886</td>\n",
       "    </tr>\n",
       "    <tr>\n",
       "      <th>O00151</th>\n",
       "      <td>1.410541</td>\n",
       "      <td>1.373785</td>\n",
       "      <td>1.499420</td>\n",
       "      <td>1.192602</td>\n",
       "      <td>1.317748</td>\n",
       "      <td>NaN</td>\n",
       "      <td>NaN</td>\n",
       "      <td>0.118827</td>\n",
       "      <td>0.237407</td>\n",
       "      <td>0.264844</td>\n",
       "    </tr>\n",
       "    <tr>\n",
       "      <th>O00170</th>\n",
       "      <td>0.365984</td>\n",
       "      <td>0.183369</td>\n",
       "      <td>0.391285</td>\n",
       "      <td>NaN</td>\n",
       "      <td>NaN</td>\n",
       "      <td>0.314262</td>\n",
       "      <td>0.298095</td>\n",
       "      <td>0.469659</td>\n",
       "      <td>0.336839</td>\n",
       "      <td>0.357980</td>\n",
       "    </tr>\n",
       "  </tbody>\n",
       "</table>\n",
       "</div>"
      ],
      "text/plain": [
       "            Subject1_FACS145_B_C10  Subject1_FACS145_B_C11  \\\n",
       "Protein ID                                                   \n",
       "A0A0B4J2D5                0.631524                0.799003   \n",
       "B5ME19                    0.542739                0.606939   \n",
       "O00148                    4.798707                4.550247   \n",
       "O00151                    1.410541                1.373785   \n",
       "O00170                    0.365984                0.183369   \n",
       "\n",
       "            Subject1_FACS145_B_C12  Subject1_FACS145_B_C13  \\\n",
       "Protein ID                                                   \n",
       "A0A0B4J2D5                1.491595                1.263511   \n",
       "B5ME19                    0.458596                0.340985   \n",
       "O00148                    5.487086                3.434898   \n",
       "O00151                    1.499420                1.192602   \n",
       "O00170                    0.391285                     NaN   \n",
       "\n",
       "            Subject1_FACS145_B_C9  Subject1_FACS145_T_D10  \\\n",
       "Protein ID                                                  \n",
       "A0A0B4J2D5               0.872645                0.205904   \n",
       "B5ME19                   0.231616                0.236722   \n",
       "O00148                   3.532960                4.414555   \n",
       "O00151                   1.317748                     NaN   \n",
       "O00170                        NaN                0.314262   \n",
       "\n",
       "            Subject1_FACS145_T_D11  Subject1_FACS145_T_D12  \\\n",
       "Protein ID                                                   \n",
       "A0A0B4J2D5                0.275353                0.123126   \n",
       "B5ME19                    0.616410                0.401453   \n",
       "O00148                    4.249327                4.517552   \n",
       "O00151                         NaN                0.118827   \n",
       "O00170                    0.298095                0.469659   \n",
       "\n",
       "            Subject1_FACS145_T_D13  Subject1_FACS145_T_D9  \n",
       "Protein ID                                                 \n",
       "A0A0B4J2D5                     NaN               0.143742  \n",
       "B5ME19                    0.685462               0.531903  \n",
       "O00148                    4.307400               3.772886  \n",
       "O00151                    0.237407               0.264844  \n",
       "O00170                    0.336839               0.357980  "
      ]
     },
     "execution_count": 3,
     "metadata": {},
     "output_type": "execute_result"
    }
   ],
   "source": [
    "import data_utils    \n",
    "cell_types = ['B_', 'T_']\n",
    "indecies = data_normalized.apply(data_utils.check_three_of_each_type, axis=1,\n",
    "                      cell_types = cell_types)\n",
    "data = data_normalized[indecies]\n",
    "data.head()"
   ]
  },
  {
   "cell_type": "markdown",
   "metadata": {},
   "source": [
    "Finally, we will calculate the coeffients of variation for each protein within each of the two cell types. "
   ]
  },
  {
   "cell_type": "code",
   "execution_count": 4,
   "metadata": {},
   "outputs": [],
   "source": [
    "from scipy.stats import variation\n",
    "from statistics import mean\n",
    "import pandas as pd\n",
    "from numpy import isnan"
   ]
  },
  {
   "cell_type": "code",
   "execution_count": 5,
   "metadata": {
    "scrolled": false
   },
   "outputs": [
    {
     "name": "stdout",
     "output_type": "stream",
     "text": [
      "B_\n",
      "Mean CV:\t 0.3086072914004368\n",
      "Min CV: \t 0.01998267234880909\n",
      "Max CV: \t 1.2701004970017793\n",
      "nan:    \t 0\n",
      "Zero:    \t 0\n",
      "Under 10%:\t 48 \t0.05\n",
      "Under 20%:\t 376 \t0.39\n",
      "961\n",
      "\n",
      "T_\n",
      "Mean CV:\t 0.25295383893559353\n",
      "Min CV: \t 0.01902016615544423\n",
      "Max CV: \t 1.8536224141166484\n",
      "nan:    \t 0\n",
      "Zero:    \t 0\n",
      "Under 10%:\t 158 \t0.16\n",
      "Under 20%:\t 521 \t0.54\n",
      "961\n",
      "\n"
     ]
    }
   ],
   "source": [
    "CVs = {}\n",
    "for population in cell_types:\n",
    "    cells_in_population = list(s for s in data.columns.values.tolist() if population in s)\n",
    "    data_by_type = data[cells_in_population]\n",
    "    #now we have a dataframe with just one subpopulation\n",
    "    #Call variation function\n",
    "    var = data_by_type.apply(variation, axis=1, nan_policy='omit')\n",
    "    CVs[population] = var\n",
    "    \n",
    "    #Here we report an overview\n",
    "    print (population)\n",
    "    print ('Mean CV:\\t',mean(var))\n",
    "    print ('Min CV: \\t',min(var))\n",
    "    print ('Max CV: \\t',max(var))\n",
    "    print ('nan:    \\t',len([i for i in var if isnan(i)]))\n",
    "    print ('Zero:    \\t',len([i for i in var if i==0]))\n",
    "    var_under_20 = len([i for i in var if i < .2])\n",
    "    var_under_10 = len([i for i in var if i < .1])\n",
    "    count = len(var)#len([i for i in var if i!=0])\n",
    "    print ('Under 10%:\\t',var_under_10,'\\t{0:.2f}'.format(var_under_10/count))\n",
    "    print ('Under 20%:\\t',var_under_20,'\\t{0:.2f}'.format(var_under_20/count))\n",
    "    print (count)\n",
    "    print ()\n",
    "    \n",
    "\n",
    "CVs = pd.DataFrame.from_dict(CVs)    "
   ]
  },
  {
   "cell_type": "markdown",
   "metadata": {},
   "source": [
    "Next, we will visualize the data, which shows that the majority of proteins have small coefficients of variation."
   ]
  },
  {
   "cell_type": "code",
   "execution_count": 6,
   "metadata": {},
   "outputs": [
    {
     "data": {
      "image/png": "[encoded data removed]",
      "text/plain": [
       "<Figure size 432x288 with 1 Axes>"
      ]
     },
     "metadata": {},
     "output_type": "display_data"
    }
   ],
   "source": [
    "import matplotlib.pyplot as plt\n",
    "import seaborn as sns\n",
    "sns.set(font_scale=1.5)\n",
    "sns.set_style(\"white\")\n",
    "figure = sns.violinplot(data=CVs, width=.5)\n",
    "figure.set_ylabel(\"Coefficient of Variation\")\n",
    "figure.set_xticklabels(['B cells', 'T cells'])\n",
    "plt.savefig(\"data/figures/CV.png\", dpi=300)\n",
    "\n",
    "plt.show()"
   ]
  },
  {
   "cell_type": "code",
   "execution_count": 7,
   "metadata": {},
   "outputs": [
    {
     "data": {
      "image/png": "[encoded data removed]",
      "text/plain": [
       "<Figure size 432x288 with 1 Axes>"
      ]
     },
     "metadata": {},
     "output_type": "display_data"
    }
   ],
   "source": [
    "import matplotlib.pyplot as plt\n",
    "import seaborn as sns\n",
    "\n",
    "sns.set(font_scale=1.5)\n",
    "\n",
    "sns.set_style(\"white\")\n",
    "figure = sns.distplot(CVs['B_'], hist = False, label='B cells')#, width=.5)\n",
    "figure = sns.distplot(CVs['T_'], hist = False, label='T cells')#, width=.5)\n",
    "figure.set_ylabel(\"Relative Frequency\")\n",
    "figure.set_xlabel(\"Coefficient of Variation\")\n",
    "\n",
    "figure.legend(['B cells', 'T cells'])\n",
    "plt.savefig(\"data/figures/qc_hist.png\", dpi=300,\n",
    "            bbox_inches='tight')\n",
    "plt.show()"
   ]
  },
  {
   "cell_type": "markdown",
   "metadata": {},
   "source": [
    "Here we summarize the CVs overall. Note that the CVs were calculated within types and so still represent technical variability, not variation between cell types."
   ]
  },
  {
   "cell_type": "code",
   "execution_count": 8,
   "metadata": {},
   "outputs": [
    {
     "name": "stdout",
     "output_type": "stream",
     "text": [
      "Mean CV:\t 0.28078056516801514\n",
      "Min CV: \t 0.01902016615544423\n",
      "Max CV: \t 1.8536224141166484\n",
      "nan:    \t 0\n",
      "Zero:    \t 0\n",
      "Under 10%:\t 206 \t0.11\n",
      "Under 20%:\t 897 \t0.47\n"
     ]
    }
   ],
   "source": [
    "var = CVs.values.flatten()\n",
    "\n",
    "print ('Mean CV:\\t',mean(var))\n",
    "print ('Min CV: \\t',min(var))\n",
    "print ('Max CV: \\t',max(var))\n",
    "print ('nan:    \\t',len([i for i in var if isnan(i)]))\n",
    "print ('Zero:    \\t',len([i for i in var if i==0]))\n",
    "    \n",
    "var_under_20 = len([i for i in var if i < .2])\n",
    "var_under_10 = len([i for i in var if i < .1])\n",
    "count = len(var)#len([i for i in var if i!=0])\n",
    "print ('Under 10%:\\t',var_under_10,'\\t{0:.2f}'.format(var_under_10/count))\n",
    "print ('Under 20%:\\t',var_under_20,'\\t{0:.2f}'.format(var_under_20/count))"
   ]
  },
  {
   "cell_type": "markdown",
   "metadata": {},
   "source": [
    "This shows accuracy in repeatedly characterizing each cell type."
   ]
  },
  {
   "cell_type": "markdown",
   "metadata": {},
   "source": [
    "### Correlation coefficient\n",
    "Next, we show reproducibility of the replicates by Spearman correlation coefficient."
   ]
  },
  {
   "cell_type": "code",
   "execution_count": 9,
   "metadata": {},
   "outputs": [
    {
     "data": {
      "image/png": "[encoded data removed]",
      "text/plain": [
       "<Figure size 720x720 with 2 Axes>"
      ]
     },
     "metadata": {},
     "output_type": "display_data"
    }
   ],
   "source": [
    "correlations = data.corr(method=\"spearman\")\n",
    "\n",
    "ylabels=[' ','B_C11','B_C12','B_C13','B_C9  ',\n",
    "        'T_D10','T_D11','T_D12','T_D13','T_D9  ']\n",
    "\n",
    "\n",
    "xlabels=['B_C10','B_C11','B_C12','B_C13','B_C9  ',\n",
    "        'T_D10','T_D11','T_D12','T_D13','  ']\n",
    "\n",
    "correlations.index=ylabels\n",
    "correlations.columns=xlabels\n",
    "\n",
    "import numpy as np\n",
    "mask = np.zeros(correlations.shape, dtype=bool)\n",
    "mask[np.triu_indices(len(mask))] = True\n",
    "\n",
    "plt.figure(figsize=(10,10)) \n",
    "fig =sns.heatmap(correlations, cmap = 'coolwarm', mask = mask, annot=True)\n",
    "\n",
    "plt.yticks(rotation=0, size=20) \n",
    "plt.xticks(rotation=45, size = 20)\n",
    "\n",
    "\n",
    "plt.savefig(\"data/AutoPOTS_forPRIDE/correlations_lymph.png\", dpi=300,\n",
    "            bbox_inches='tight')"
   ]
  },
  {
   "cell_type": "code",
   "execution_count": 10,
   "metadata": {},
   "outputs": [
    {
     "data": {
      "text/html": [
       "<div>\n",
       "<style scoped>\n",
       "    .dataframe tbody tr th:only-of-type {\n",
       "        vertical-align: middle;\n",
       "    }\n",
       "\n",
       "    .dataframe tbody tr th {\n",
       "        vertical-align: top;\n",
       "    }\n",
       "\n",
       "    .dataframe thead th {\n",
       "        text-align: right;\n",
       "    }\n",
       "</style>\n",
       "<table border=\"1\" class=\"dataframe\">\n",
       "  <thead>\n",
       "    <tr style=\"text-align: right;\">\n",
       "      <th></th>\n",
       "      <th>B_C10</th>\n",
       "      <th>B_C11</th>\n",
       "      <th>B_C12</th>\n",
       "      <th>B_C13</th>\n",
       "      <th>B_C9</th>\n",
       "      <th>T_D10</th>\n",
       "      <th>T_D11</th>\n",
       "      <th>T_D12</th>\n",
       "      <th>T_D13</th>\n",
       "      <th></th>\n",
       "    </tr>\n",
       "  </thead>\n",
       "  <tbody>\n",
       "    <tr>\n",
       "      <th></th>\n",
       "      <td>1.000000</td>\n",
       "      <td>0.928277</td>\n",
       "      <td>0.909091</td>\n",
       "      <td>0.910874</td>\n",
       "      <td>0.912366</td>\n",
       "      <td>0.860993</td>\n",
       "      <td>0.892514</td>\n",
       "      <td>0.907953</td>\n",
       "      <td>0.870409</td>\n",
       "      <td>0.902426</td>\n",
       "    </tr>\n",
       "    <tr>\n",
       "      <th>B_C11</th>\n",
       "      <td>0.928277</td>\n",
       "      <td>NaN</td>\n",
       "      <td>0.922327</td>\n",
       "      <td>0.944885</td>\n",
       "      <td>0.924284</td>\n",
       "      <td>0.861076</td>\n",
       "      <td>0.865451</td>\n",
       "      <td>0.898024</td>\n",
       "      <td>0.874346</td>\n",
       "      <td>0.888924</td>\n",
       "    </tr>\n",
       "    <tr>\n",
       "      <th>B_C12</th>\n",
       "      <td>0.909091</td>\n",
       "      <td>0.922327</td>\n",
       "      <td>NaN</td>\n",
       "      <td>0.924202</td>\n",
       "      <td>0.902961</td>\n",
       "      <td>0.843618</td>\n",
       "      <td>0.863836</td>\n",
       "      <td>0.881153</td>\n",
       "      <td>0.850193</td>\n",
       "      <td>0.866412</td>\n",
       "    </tr>\n",
       "    <tr>\n",
       "      <th>B_C13</th>\n",
       "      <td>0.910874</td>\n",
       "      <td>0.944885</td>\n",
       "      <td>0.924202</td>\n",
       "      <td>NaN</td>\n",
       "      <td>0.912257</td>\n",
       "      <td>0.833798</td>\n",
       "      <td>0.855231</td>\n",
       "      <td>0.890738</td>\n",
       "      <td>0.866426</td>\n",
       "      <td>0.874388</td>\n",
       "    </tr>\n",
       "    <tr>\n",
       "      <th>B_C9</th>\n",
       "      <td>0.912366</td>\n",
       "      <td>0.924284</td>\n",
       "      <td>0.902961</td>\n",
       "      <td>0.912257</td>\n",
       "      <td>NaN</td>\n",
       "      <td>0.845548</td>\n",
       "      <td>0.868968</td>\n",
       "      <td>0.888091</td>\n",
       "      <td>0.853613</td>\n",
       "      <td>0.884379</td>\n",
       "    </tr>\n",
       "    <tr>\n",
       "      <th>T_D10</th>\n",
       "      <td>0.860993</td>\n",
       "      <td>0.861076</td>\n",
       "      <td>0.843618</td>\n",
       "      <td>0.833798</td>\n",
       "      <td>0.845548</td>\n",
       "      <td>NaN</td>\n",
       "      <td>0.901336</td>\n",
       "      <td>0.915788</td>\n",
       "      <td>0.896191</td>\n",
       "      <td>0.911761</td>\n",
       "    </tr>\n",
       "    <tr>\n",
       "      <th>T_D11</th>\n",
       "      <td>0.892514</td>\n",
       "      <td>0.865451</td>\n",
       "      <td>0.863836</td>\n",
       "      <td>0.855231</td>\n",
       "      <td>0.868968</td>\n",
       "      <td>0.901336</td>\n",
       "      <td>NaN</td>\n",
       "      <td>0.930179</td>\n",
       "      <td>0.902743</td>\n",
       "      <td>0.925954</td>\n",
       "    </tr>\n",
       "    <tr>\n",
       "      <th>T_D12</th>\n",
       "      <td>0.907953</td>\n",
       "      <td>0.898024</td>\n",
       "      <td>0.881153</td>\n",
       "      <td>0.890738</td>\n",
       "      <td>0.888091</td>\n",
       "      <td>0.915788</td>\n",
       "      <td>0.930179</td>\n",
       "      <td>NaN</td>\n",
       "      <td>0.927078</td>\n",
       "      <td>0.943333</td>\n",
       "    </tr>\n",
       "    <tr>\n",
       "      <th>T_D13</th>\n",
       "      <td>0.870409</td>\n",
       "      <td>0.874346</td>\n",
       "      <td>0.850193</td>\n",
       "      <td>0.866426</td>\n",
       "      <td>0.853613</td>\n",
       "      <td>0.896191</td>\n",
       "      <td>0.902743</td>\n",
       "      <td>0.927078</td>\n",
       "      <td>NaN</td>\n",
       "      <td>0.912227</td>\n",
       "    </tr>\n",
       "    <tr>\n",
       "      <th>T_D9</th>\n",
       "      <td>0.902426</td>\n",
       "      <td>0.888924</td>\n",
       "      <td>0.866412</td>\n",
       "      <td>0.874388</td>\n",
       "      <td>0.884379</td>\n",
       "      <td>0.911761</td>\n",
       "      <td>0.925954</td>\n",
       "      <td>0.943333</td>\n",
       "      <td>0.912227</td>\n",
       "      <td>1.000000</td>\n",
       "    </tr>\n",
       "  </tbody>\n",
       "</table>\n",
       "</div>"
      ],
      "text/plain": [
       "           B_C10     B_C11     B_C12     B_C13    B_C9       T_D10     T_D11  \\\n",
       "        1.000000  0.928277  0.909091  0.910874  0.912366  0.860993  0.892514   \n",
       "B_C11   0.928277       NaN  0.922327  0.944885  0.924284  0.861076  0.865451   \n",
       "B_C12   0.909091  0.922327       NaN  0.924202  0.902961  0.843618  0.863836   \n",
       "B_C13   0.910874  0.944885  0.924202       NaN  0.912257  0.833798  0.855231   \n",
       "B_C9    0.912366  0.924284  0.902961  0.912257       NaN  0.845548  0.868968   \n",
       "T_D10   0.860993  0.861076  0.843618  0.833798  0.845548       NaN  0.901336   \n",
       "T_D11   0.892514  0.865451  0.863836  0.855231  0.868968  0.901336       NaN   \n",
       "T_D12   0.907953  0.898024  0.881153  0.890738  0.888091  0.915788  0.930179   \n",
       "T_D13   0.870409  0.874346  0.850193  0.866426  0.853613  0.896191  0.902743   \n",
       "T_D9    0.902426  0.888924  0.866412  0.874388  0.884379  0.911761  0.925954   \n",
       "\n",
       "           T_D12     T_D13            \n",
       "        0.907953  0.870409  0.902426  \n",
       "B_C11   0.898024  0.874346  0.888924  \n",
       "B_C12   0.881153  0.850193  0.866412  \n",
       "B_C13   0.890738  0.866426  0.874388  \n",
       "B_C9    0.888091  0.853613  0.884379  \n",
       "T_D10   0.915788  0.896191  0.911761  \n",
       "T_D11   0.930179  0.902743  0.925954  \n",
       "T_D12        NaN  0.927078  0.943333  \n",
       "T_D13   0.927078       NaN  0.912227  \n",
       "T_D9    0.943333  0.912227  1.000000  "
      ]
     },
     "execution_count": 10,
     "metadata": {},
     "output_type": "execute_result"
    }
   ],
   "source": [
    "from numpy import nan\n",
    "#drop self-correlations of 1\n",
    "for sample in correlations.columns:\n",
    "        correlations[sample][sample]=nan\n",
    "        \n",
    "correlations"
   ]
  },
  {
   "cell_type": "markdown",
   "metadata": {},
   "source": [
    "Here we split the dataset by cell type and perform the same correlation test. We then take the average correlation between replicates."
   ]
  },
  {
   "cell_type": "code",
   "execution_count": 11,
   "metadata": {},
   "outputs": [
    {
     "name": "stdout",
     "output_type": "stream",
     "text": [
      "B_ average correlation:\t 0.9191524589486328\n",
      "T_ average correlation:\t 0.9166590259875101\n"
     ]
    }
   ],
   "source": [
    "from numpy import nan\n",
    "\n",
    "corr_type = {}\n",
    "corr_summary={}\n",
    "for cell_type in cell_types:\n",
    "    \n",
    "    cells_of_type = list(s for s in data.columns.values.tolist() if cell_type in s)\n",
    "    data_by_type = data[cells_of_type]\n",
    "    corr_of_type = data_by_type.corr(method='spearman')\n",
    "    \n",
    "    #drop self-correlations of 1\n",
    "    for sample in corr_of_type.columns:\n",
    "        corr_of_type[sample][sample]=nan\n",
    "    \n",
    "    corr_type[cell_type] = corr_of_type\n",
    "    \n",
    "    #take the average of the correlations between a sample and  \n",
    "    #    the other samples of the same type\n",
    "    summary = corr_of_type.apply(lambda x: mean(x.dropna()))\n",
    "    corr_summary[cell_type] = mean(summary)\n",
    "    \n",
    "    print (cell_type,\"average correlation:\\t\",mean(summary))"
   ]
  },
  {
   "cell_type": "markdown",
   "metadata": {},
   "source": [
    "With the average correlation between each set of replicates, we now average them to get the overall average. "
   ]
  },
  {
   "cell_type": "code",
   "execution_count": 12,
   "metadata": {},
   "outputs": [
    {
     "data": {
      "text/plain": [
       "0.9179057424680714"
      ]
     },
     "execution_count": 12,
     "metadata": {},
     "output_type": "execute_result"
    }
   ],
   "source": [
    "mean(corr_summary.values())"
   ]
  },
  {
   "cell_type": "markdown",
   "metadata": {},
   "source": [
    "Now, we calculate the average correlation when comparing a B cell replicate to a T cell replicate. We expect this to be lower than either of the two above numbers comparing replicates within a cell type."
   ]
  },
  {
   "cell_type": "code",
   "execution_count": 13,
   "metadata": {},
   "outputs": [
    {
     "name": "stdout",
     "output_type": "stream",
     "text": [
      "Mean cross-type correlations:\n"
     ]
    },
    {
     "data": {
      "text/plain": [
       "0.8677106415828774"
      ]
     },
     "execution_count": 13,
     "metadata": {},
     "output_type": "execute_result"
    }
   ],
   "source": [
    "B_cells = list(s for s in correlations.index if 'B_' in s)\n",
    "T_cells = list(s for s in correlations.index if 'T_' in s)\n",
    "\n",
    "corr_cross_types = []\n",
    "\n",
    "for B in B_cells:\n",
    "    for T in T_cells:\n",
    "        c = correlations[B][T]\n",
    "        corr_cross_types.append(c)\n",
    "        \n",
    "print(\"Mean cross-type correlations:\")        \n",
    "mean(corr_cross_types)"
   ]
  },
  {
   "cell_type": "code",
   "execution_count": null,
   "metadata": {},
   "outputs": [],
   "source": []
  },
  {
   "cell_type": "code",
   "execution_count": null,
   "metadata": {},
   "outputs": [],
   "source": []
  },
  {
   "cell_type": "code",
   "execution_count": null,
   "metadata": {},
   "outputs": [],
   "source": []
  }
 ],
 "metadata": {
  "kernelspec": {
   "display_name": "Python 3",
   "language": "python",
   "name": "python3"
  },
  "language_info": {
   "codemirror_mode": {
    "name": "ipython",
    "version": 3
   },
   "file_extension": ".py",
   "mimetype": "text/x-python",
   "name": "python",
   "nbconvert_exporter": "python",
   "pygments_lexer": "ipython3",
   "version": "3.8.3"
  }
 },
 "nbformat": 4,
 "nbformat_minor": 2
}
