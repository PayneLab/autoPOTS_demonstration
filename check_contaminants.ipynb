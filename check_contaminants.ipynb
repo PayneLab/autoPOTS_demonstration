{
 "cells": [
  {
   "cell_type": "markdown",
   "metadata": {},
   "source": [
    "## Check for contaminants\n",
    "Here we check for potential contaminants based on names that might occur in the description. "
   ]
  },
  {
   "cell_type": "code",
   "execution_count": 1,
   "metadata": {},
   "outputs": [],
   "source": [
    "import load_data\n",
    "names_hela = load_data.names_FragPipe(month=\"HeLaforPRIDE\", contains =[])\n",
    "names_lymph = load_data.names_FragPipe(month=\"lymph_forPRIDE\", contains =[])"
   ]
  },
  {
   "cell_type": "markdown",
   "metadata": {},
   "source": [
    "First we load the list of proteins identified. The <code>names_FragPipe</code> function returns a dataframe that includes the identifier code and description. We can search the description for potention contaminants."
   ]
  },
  {
   "cell_type": "code",
   "execution_count": 2,
   "metadata": {},
   "outputs": [
    {
     "data": {
      "text/plain": [
       "[]"
      ]
     },
     "execution_count": 2,
     "metadata": {},
     "output_type": "execute_result"
    }
   ],
   "source": [
    "c = [i for i in names_hela.Description if 'trypsin' in i or 'keratin' in i]\n",
    "c"
   ]
  },
  {
   "cell_type": "markdown",
   "metadata": {},
   "source": [
    "Here we see that nothing in the Hela database was described as either trypsin or keratin."
   ]
  },
  {
   "cell_type": "code",
   "execution_count": 3,
   "metadata": {},
   "outputs": [
    {
     "data": {
      "text/plain": [
       "['Alpha-1-antichymotrypsin', 'Alpha-1-antitrypsin']"
      ]
     },
     "execution_count": 3,
     "metadata": {},
     "output_type": "execute_result"
    }
   ],
   "source": [
    "c = [i for i in names_lymph.Description if 'trypsin' in i or 'keratin' in i]\n",
    "c"
   ]
  },
  {
   "cell_type": "markdown",
   "metadata": {},
   "source": [
    "Alpha-1-antichymotrypsin is a plasma serine proteinase inhibitor. Alpha-1 antitrypsin (AAT) is a protein that protects the lungs. Both of these are human proteins and not considered contaminants."
   ]
  }
 ],
 "metadata": {
  "kernelspec": {
   "display_name": "Python 3",
   "language": "python",
   "name": "python3"
  },
  "language_info": {
   "codemirror_mode": {
    "name": "ipython",
    "version": 3
   },
   "file_extension": ".py",
   "mimetype": "text/x-python",
   "name": "python",
   "nbconvert_exporter": "python",
   "pygments_lexer": "ipython3",
   "version": "3.8.3"
  }
 },
 "nbformat": 4,
 "nbformat_minor": 4
}
